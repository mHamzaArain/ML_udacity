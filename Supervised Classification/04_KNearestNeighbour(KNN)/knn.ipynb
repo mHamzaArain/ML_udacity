{
 "metadata": {
  "language_info": {
   "codemirror_mode": {
    "name": "ipython",
    "version": 3
   },
   "file_extension": ".py",
   "mimetype": "text/x-python",
   "name": "python",
   "nbconvert_exporter": "python",
   "pygments_lexer": "ipython3",
   "version": "3.9.2-final"
  },
  "orig_nbformat": 2,
  "kernelspec": {
   "name": "python3",
   "display_name": "Python 3.9.2 64-bit",
   "metadata": {
    "interpreter": {
     "hash": "f0936549add0340c2b95743eb84cb88609405aacf6ee6cff373ebccd58ee5d52"
    }
   }
  }
 },
 "nbformat": 4,
 "nbformat_minor": 2,
 "cells": [
  {
   "cell_type": "code",
   "execution_count": null,
   "metadata": {},
   "outputs": [],
   "source": [
    "\"\"\"\n",
    "K Nearest Neighbour\n",
    "--------------------\n",
    "\n",
    "Documentation & Algorithms: https://scikit-learn.org/stable/modules/neighbors.html\n",
    "\n",
    "Example: https://scikit-learn.org/stable/auto_examples/neighbors/plot_classification.html#sphx-glr-auto-examples-neighbors-plot-classification-py\n",
    "\n",
    "\n",
    "Parameteres: https://scikit-learn.org/stable/modules/generated/sklearn.neighbors.KNeighborsClassifier.html\n",
    "\"\"\""
   ]
  },
  {
   "cell_type": "code",
   "execution_count": 2,
   "metadata": {},
   "outputs": [],
   "source": [
    "\"\"\" emails from the Enron corpus by author:    \n",
    "    Sara has label 0\n",
    "    Chris has label 1\n",
    "\"\"\"\n",
    "\n",
    "import os   \n",
    "\n",
    "import sys\n",
    "from time import time\n",
    "\n",
    "# print(os.getcwd())\n",
    "\n",
    "sys.path.append(\"../tools/\")\n",
    "# os.chdir(\"tools\")\n",
    "from email_preprocess import preprocess"
   ]
  },
  {
   "cell_type": "code",
   "execution_count": 3,
   "metadata": {},
   "outputs": [
    {
     "output_type": "stream",
     "name": "stdout",
     "text": [
      "no. of Chris training emails: 7936\nno. of Sara training emails: 7884\n"
     ]
    }
   ],
   "source": [
    "### features_train and features_test are the features for the training\n",
    "### and testing datasets, respectively\n",
    "### labels_train and labels_test are the corresponding item labels\n",
    "features_train, features_test, labels_train, labels_test = preprocess()"
   ]
  },
  {
   "cell_type": "code",
   "execution_count": 4,
   "metadata": {},
   "outputs": [],
   "source": [
    "from sklearn.neighbors import KNeighborsClassifier \n",
    "from sklearn.metrics import accuracy_score"
   ]
  },
  {
   "cell_type": "code",
   "execution_count": 5,
   "metadata": {},
   "outputs": [
    {
     "output_type": "stream",
     "name": "stdout",
     "text": [
      "training time: 0.024 s\n",
      "testing time: 2.064 s\n",
      "0.9385665529010239\n"
     ]
    }
   ],
   "source": [
    "clf = KNeighborsClassifier(n_neighbors=5, # Number of neighbors .\n",
    "weights='uniform', # uniform: All points in each neighborhood are weighted equally.\n",
    "algorithm='auto',  # auto: ‘ball_tree’, ‘kd_tree’, ‘brute’ most appropraite will use\n",
    ")\n",
    "\n",
    "t0 = time()\n",
    "clf.fit(features_train, labels_train)\n",
    "\n",
    "print(\"training time:\", round(time()-t0, 3), \"s\")\n",
    "\n",
    "t0 = time()\n",
    "pred = clf.predict(features_test)\n",
    "acc = accuracy_score(pred, labels_test)\n",
    "print(\"testing time:\", round(time()-t0, 3), \"s\")\n",
    "print(acc)"
   ]
  }
 ]
}