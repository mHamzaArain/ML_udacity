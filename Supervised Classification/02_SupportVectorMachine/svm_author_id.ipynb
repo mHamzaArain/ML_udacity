{
 "metadata": {
  "language_info": {
   "codemirror_mode": {
    "name": "ipython",
    "version": 3
   },
   "file_extension": ".py",
   "mimetype": "text/x-python",
   "name": "python",
   "nbconvert_exporter": "python",
   "pygments_lexer": "ipython3",
   "version": "3.9.2-final"
  },
  "orig_nbformat": 2,
  "kernelspec": {
   "name": "python3",
   "display_name": "Python 3.9.2 64-bit",
   "metadata": {
    "interpreter": {
     "hash": "f0936549add0340c2b95743eb84cb88609405aacf6ee6cff373ebccd58ee5d52"
    }
   }
  }
 },
 "nbformat": 4,
 "nbformat_minor": 2,
 "cells": [
  {
   "cell_type": "code",
   "execution_count": 1,
   "metadata": {},
   "outputs": [
    {
     "output_type": "execute_result",
     "data": {
      "text/plain": [
       "\"\\n1. Higher acuuracy than Naive bayes. \\n2. It's too much slower than Naive Bayes classifier.\\n3. Not suitable for high noisy dataset.\\n\\nDocumentation: https://scikit-learn.org/stable/modules/svm.html  \\n\\nKernel: https://scikit-learn.org/stable/modules/generated/sklearn.svm.SVC.html\\n\\nIf speed is a major consideration (and for many real-time machine learning applications, it certainly is) then you may want to sacrifice a bit of accuracy if it means you can train/predict faster. Which of these are applications where you can imagine a very quick-running algorithm is especially important?\\n\\npredicting the author of an email\\nflagging credit card fraud, and blocking a transaction before it goes through\\nvoice recognition, like Si\\n\""
      ]
     },
     "metadata": {},
     "execution_count": 1
    }
   ],
   "source": [
    "# Supervised learning of Support Vector Machine classifer\r\n",
    "'''\r\n",
    "1. Higher acuuracy than Naive bayes. \r\n",
    "2. It's too much slower than Naive Bayes classifier.\r\n",
    "3. Not suitable for high noisy dataset.\r\n",
    "\r\n",
    "Documentation: https://scikit-learn.org/stable/modules/svm.html  \r\n",
    "\r\n",
    "Kernel: https://scikit-learn.org/stable/modules/generated/sklearn.svm.SVC.html\r\n",
    "\r\n",
    "If speed is a major consideration (and for many real-time machine learning applications, it certainly is) then you may want to sacrifice a bit of accuracy if it means you can train/predict faster. Which of these are applications where you can imagine a very quick-running algorithm is especially important?\r\n",
    "\r\n",
    "predicting the author of an email\r\n",
    "flagging credit card fraud, and blocking a transaction before it goes through\r\n",
    "voice recognition, like Si\r\n",
    "\r\n",
    "Hopefully it’s becoming clearer what Sebastian meant when he said Naive Bayes is great for text--it’s faster and generally gives better performance than an SVM for this particular problem. Of course, there are plenty of other problems where an SVM might work better. Knowing which one to try when you’re tackling a problem for the first time is part of the art and science of machine learning. In addition to picking your algorithm, depending on which one you try, there are parameter tunes to worry about as well, and the possibility of overfitting (especially if you don’t have lots of training data).\r\n",
    "\r\n",
    "Our general suggestion is to try a few different algorithms for each problem. Tuning the parameters can be a lot of work, but just sit tight for now--toward the end of the class we will introduce you to GridCV, a great sklearn tool that can find an optimal parameter tune almost automatically.\r\n",
    "'''\r\n",
    "\r\n"
   ]
  },
  {
   "cell_type": "code",
   "execution_count": 2,
   "metadata": {},
   "outputs": [],
   "source": [
    "\"\"\" \n",
    "    This is the code to accompany the Lesson 2 (SVM) mini-project.\n",
    "\n",
    "    Use a SVM to identify emails from the Enron corpus by their authors:    \n",
    "    Sara has label 0\n",
    "    Chris has label 1\n",
    "\"\"\"\n",
    "\n",
    "import os   \n",
    "\n",
    "import sys\n",
    "from time import time\n",
    "\n",
    "# print(os.getcwd())\n",
    "\n",
    "sys.path.append(\"../tools/\")\n",
    "# os.chdir(\"tools\")\n",
    "from email_preprocess import preprocess"
   ]
  },
  {
   "cell_type": "code",
   "execution_count": 3,
   "metadata": {},
   "outputs": [
    {
     "output_type": "stream",
     "name": "stdout",
     "text": [
      "no. of Chris training emails: 7936\nno. of Sara training emails: 7884\n"
     ]
    }
   ],
   "source": [
    "### features_train and features_test are the features for the training\n",
    "### and testing datasets, respectively\n",
    "### labels_train and labels_test are the corresponding item labels\n",
    "features_train, features_test, labels_train, labels_test = preprocess()"
   ]
  },
  {
   "cell_type": "code",
   "execution_count": 4,
   "metadata": {},
   "outputs": [],
   "source": [
    "from sklearn import svm\n",
    "from sklearn.metrics import accuracy_score"
   ]
  },
  {
   "cell_type": "code",
   "execution_count": 5,
   "metadata": {},
   "outputs": [
    {
     "output_type": "stream",
     "name": "stdout",
     "text": [
      "training time: 109.604 s\n",
      "testing time: 11.404 s\n",
      "0.9840728100113766\n"
     ]
    }
   ],
   "source": [
    "#########################################################\n",
    "clf = svm.SVC(kernel='linear')\n",
    "\n",
    "t0 = time()\n",
    "clf.fit(features_train, labels_train)\n",
    "print(\"training time:\", round(time()-t0, 3), \"s\")\n",
    "\n",
    "t0 = time()\n",
    "pred = clf.predict(features_test)\n",
    "print(\"testing time:\", round(time()-t0, 3), \"s\")\n",
    "\n",
    "accuracy = accuracy_score(labels_test, pred)\n",
    "print(accuracy)\n",
    "#########################################################"
   ]
  },
  {
   "cell_type": "code",
   "execution_count": 6,
   "metadata": {},
   "outputs": [
    {
     "output_type": "stream",
     "name": "stdout",
     "text": [
      "training time: 0.113 s\n",
      "testing time: 0.659 s\n",
      "0.8845278725824801\n"
     ]
    }
   ],
   "source": [
    "'''One way to speed up an algorithm is to train it on a smaller training dataset. The tradeoff is that the accuracy almost always goes down when you do this. Let’s explore this more concretely: add in the following two lines immediately before training your classifier.\n",
    "\n",
    "features_train = features_train[:len(features_train)/100]\n",
    "labels_train = labels_train[:len(labels_train)/100]\n",
    "\n",
    "'''\n",
    "\n",
    "# Down dataset to 1% of orginal dataset.\n",
    "features_train = features_train[:int(len(features_train)/100)]\n",
    "labels_train = labels_train[:int(len(labels_train)/100)]\n",
    "\n",
    "t0 = time()\n",
    "clf.fit(features_train, labels_train)\n",
    "print(\"training time:\", round(time()-t0, 3), \"s\")\n",
    "\n",
    "t0 = time()\n",
    "pred = clf.predict(features_test)\n",
    "print(\"testing time:\", round(time()-t0, 3), \"s\")\n",
    "\n",
    "accuracy = accuracy_score(labels_test, pred)\n",
    "print(accuracy)\n"
   ]
  },
  {
   "cell_type": "code",
   "execution_count": 7,
   "metadata": {},
   "outputs": [
    {
     "output_type": "stream",
     "name": "stdout",
     "text": [
      "training time: 0.24 s\n",
      "testing time: 1.306 s\n",
      "0.8953356086461889\n"
     ]
    }
   ],
   "source": [
    "'''\n",
    "Keep the training set slice code from the last quiz, so that you are still training on only 1% of the full training set. Change the kernel of your SVM to “rbf”. What’s the accuracy now, with this more complex kernel?\n",
    "'''\n",
    "\n",
    "clf = svm.SVC(kernel='rbf')\n",
    "\n",
    "\n",
    "t0 = time()\n",
    "clf.fit(features_train, labels_train)\n",
    "print(\"training time:\", round(time()-t0, 3), \"s\")\n",
    "\n",
    "t0 = time()\n",
    "pred = clf.predict(features_test)\n",
    "print(\"testing time:\", round(time()-t0, 3), \"s\")\n",
    "\n",
    "accuracy = accuracy_score(labels_test, pred)\n",
    "print(accuracy)"
   ]
  },
  {
   "cell_type": "code",
   "execution_count": 8,
   "metadata": {},
   "outputs": [
    {
     "output_type": "stream",
     "name": "stdout",
     "text": [
      "Accuracy of C 10.0 : 0.8953356086461889\n",
      "Accuracy of C 100.0 : 0.8953356086461889\n",
      "Accuracy of C 1000.0 : 0.8953356086461889\n",
      "Accuracy of C 10000.0 : 0.8953356086461889\n",
      "Best C value 10000.0\n"
     ]
    }
   ],
   "source": [
    "'''Keep the training set size and rbf kernel from the last quiz, but try several values of C (say, 10.0, 100., 1000., and 10000.). Which one gives the best accuracy?'''\n",
    "\n",
    "C_VALUES = [10.0, 100.0, 1000.0, 10000.0]\n",
    "BEST_C_VALUE = 0 \n",
    "for C_VALUE in C_VALUES:\n",
    "    clf = svm.SVC(kernel='rbf', C=C_VALUE)\n",
    "    clf.fit(features_train, labels_train).predict(features_test)\n",
    "    accuracy = accuracy_score(labels_test, pred)\n",
    "    print(f'Accuracy of C {C_VALUE} : {accuracy}')\n",
    "    if BEST_C_VALUE < C_VALUE:\n",
    "        BEST_C_VALUE = C_VALUE\n",
    "\n",
    "print(f'Best C value {BEST_C_VALUE}')"
   ]
  },
  {
   "cell_type": "code",
   "execution_count": 9,
   "metadata": {},
   "outputs": [
    {
     "output_type": "stream",
     "name": "stdout",
     "text": [
      "0.8953356086461889\n"
     ]
    }
   ],
   "source": [
    "'''Once you've optimized the C value for your RBF kernel, what accuracy does it give? Does this C value correspond to a simpler or more complex decision boundary?\n",
    "\n",
    "(If you're not sure about the complexity, go back a few videos to the \"SVM C Parameter\" part of the lesson. The result that you found there is also applicable here, even though it's now much harder or even impossible to draw the decision boundary in a simple scatterplot.)\n",
    "'''\n",
    "\n",
    "# Less C value more complex\n",
    "# C=1 -> more complex\n",
    "clf = svm.SVC(kernel='rbf',C=1)\n",
    "\n",
    "\n",
    "clf.fit(features_train, labels_train)\n",
    "pred = clf.predict(features_test)\n",
    "accuracy = accuracy_score(labels_test, pred)\n",
    "print(accuracy)"
   ]
  },
  {
   "cell_type": "code",
   "execution_count": 10,
   "metadata": {},
   "outputs": [
    {
     "output_type": "stream",
     "name": "stdout",
     "text": [
      "no. of Chris training emails: 7936\n",
      "no. of Sara training emails: 7884\n",
      "training time: 117.092 s\n",
      "testing time: 19.689 s\n",
      "0.9960182025028441\n"
     ]
    }
   ],
   "source": [
    "'''Now that you’ve optimized C for the RBF kernel, go back to using the full training set. In general, having a larger training set will improve the performance of your algorithm, so (by tuning C and training on a large dataset) we should get a fairly optimized result. What is the accuracy of the optimized SVM?'''\n",
    "\n",
    "#### Full dataset\n",
    "### features_train and features_test are the features for the training\n",
    "### and testing datasets, respectively\n",
    "### labels_train and labels_test are the corresponding item labels\n",
    "features_train, features_test, labels_train, labels_test = preprocess()\n",
    "\n",
    "clf = svm.SVC(kernel='rbf', C=10000.0) \n",
    "\n",
    "t0 = time()\n",
    "clf.fit(features_train, labels_train)\n",
    "print(\"training time:\", round(time()-t0, 3), \"s\")\n",
    "\n",
    "t0 = time()\n",
    "pred = clf.predict(features_test)\n",
    "print(\"testing time:\", round(time()-t0, 3), \"s\")\n",
    "\n",
    "accuracy = accuracy_score(labels_test, pred)\n",
    "print(accuracy)\n",
    "#########################################################"
   ]
  },
  {
   "cell_type": "code",
   "execution_count": 11,
   "metadata": {},
   "outputs": [
    {
     "output_type": "stream",
     "name": "stdout",
     "text": [
      "training time: 0.109 s\n",
      "testing time: 1.188 s\n",
      "0.8998862343572241\n",
      "Index = 10 : prediction = 1\n",
      "Index = 26 : prediction = 0\n",
      "Index = 50 : prediction = 1\n"
     ]
    }
   ],
   "source": [
    "'''What class does your SVM (0 or 1, corresponding to Sara and Chris respectively) predict for element 10 of the test set? The 26th? The 50th? (Use the RBF kernel, C=10000, and 1% of the training set. Normally you'd get the best results using the full training set, but we found that using 1% sped up the computation considerably and did not change our results--so feel free to use that shortcut here.)\n",
    "\n",
    "And just to be clear, the data point numbers that we give here (10, 26, 50) assume a zero-indexed list. So the correct answer for element #100 would be found using something like answer=predictions[100]\n",
    "\n",
    "\n",
    "Just to be clear, the data point numbers that we give here (10, 26, 50) assume a zero-indexed list. So the correct answer for element #100 would be found using something like answer=predictions[100]'''\n",
    "\n",
    "# Down dataset to 1% of orginal dataset.\n",
    "features_train = features_train[:int(len(features_train)/100)]\n",
    "labels_train = labels_train[:int(len(labels_train)/100)]\n",
    "\n",
    "\n",
    "clf = svm.SVC(kernel='rbf', C=10000.0) \n",
    "\n",
    "t0 = time()\n",
    "clf.fit(features_train, labels_train)\n",
    "print(\"training time:\", round(time()-t0, 3), \"s\")\n",
    "\n",
    "t0 = time()\n",
    "pred = clf.predict(features_test)\n",
    "print(\"testing time:\", round(time()-t0, 3), \"s\")\n",
    "\n",
    "accuracy = accuracy_score(labels_test, pred)\n",
    "print(accuracy)\n",
    "\n",
    "selective_indexes = (10, 26, 50)\n",
    "for seleted_index in selective_indexes:\n",
    "    print(f\"Index = {seleted_index} : prediction = {pred[seleted_index]}\")\n",
    "#########################################################"
   ]
  },
  {
   "cell_type": "code",
   "execution_count": 14,
   "metadata": {},
   "outputs": [
    {
     "output_type": "stream",
     "name": "stdout",
     "text": [
      "no. of Chris training emails: 7936\n",
      "no. of Sara training emails: 7884\n",
      "866 predicted to be in the \"Chris\"(1) class\n"
     ]
    }
   ],
   "source": [
    "'''There are over 1700 test events--how many are predicted to be in the “Chris” (1) class? (Use the RBF kernel, C=10000., and the full training set.)'''\n",
    "\n",
    "# Full dataset\n",
    "### features_train and features_test are the features for the training\n",
    "### and testing datasets, respectively\n",
    "### labels_train and labels_test are the corresponding item labels\n",
    "features_train, features_test, labels_train, labels_test = preprocess()\n",
    "\n",
    "clf = svm.SVC(kernel='rbf', C=10000.0) \n",
    "\n",
    "\n",
    "clf.fit(features_train, labels_train)\n",
    "pred = clf.predict(features_test)\n",
    "\n",
    "Class_1_Chris = 0\n",
    "for i in pred:\n",
    "    if i == 1:\n",
    "        Class_1_Chris += 1\n",
    "\n",
    "print(f'{Class_1_Chris} predicted to be in the \"Chris\"(1) class')"
   ]
  },
  {
   "cell_type": "code",
   "execution_count": null,
   "metadata": {},
   "outputs": [],
   "source": []
  }
 ]
}